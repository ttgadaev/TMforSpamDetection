{
 "cells": [
  {
   "cell_type": "code",
   "execution_count": 154,
   "metadata": {},
   "outputs": [],
   "source": [
    "import artm\n",
    "\n",
    "from topicnet.cooking_machine import Dataset\n",
    "from topicnet.cooking_machine.cubes import (\n",
    "    CubeCreator,\n",
    "    GreedyStrategy,\n",
    "    PerplexityStrategy,\n",
    "    RegularizersModifierCube,\n",
    ")\n",
    "from topicnet.cooking_machine.dataset import get_modality_vw\n",
    "from topicnet.cooking_machine.experiment import Experiment\n",
    "from topicnet.cooking_machine.model_constructor import init_simple_default_model\n",
    "from topicnet.cooking_machine.models.topic_model import TopicModel\n",
    "from topicnet.cooking_machine.pretty_output import make_notebook_pretty\n",
    "from topicnet.viewers.top_documents_viewer import TopDocumentsViewer\n",
    "from topicnet.viewers.top_tokens_viewer import TopTokensViewer\n",
    "from topicnet.dataset_manager import load_dataset\n",
    "from sklearn.linear_model import LogisticRegression\n",
    "from sklearn.ensemble import RandomForestClassifier\n",
    "from sklearn.metrics import accuracy_score, f1_score\n",
    "from sklearn.preprocessing import MultiLabelBinarizer\n",
    "from sklearn.neighbors import KNeighborsClassifier\n",
    "\n",
    "import datetime"
   ]
  },
  {
   "cell_type": "code",
   "execution_count": 155,
   "metadata": {},
   "outputs": [],
   "source": [
    "import os\n",
    "import pandas as pd\n",
    "import numpy as np\n",
    "import json"
   ]
  },
  {
   "cell_type": "code",
   "execution_count": 156,
   "metadata": {},
   "outputs": [],
   "source": [
    "df_train = pd.read_csv('./SMSS/training/SMSS__FULL.csv', header=None)\n",
    "df_test = pd.read_csv('./SMSS/eval/SMSS__TEST.csv', header=None)"
   ]
  },
  {
   "cell_type": "code",
   "execution_count": 157,
   "metadata": {},
   "outputs": [],
   "source": [
    "import numpy as np\n",
    "import pandas as pd\n",
    "import matplotlib.pyplot as plt\n",
    "%matplotlib inline\n",
    "\n",
    "import artm\n",
    "\n",
    "# change log style\n",
    "lc = artm.messages.ConfigureLoggingArgs()\n",
    "lc.minloglevel = 3\n",
    "lib = artm.wrapper.LibArtm(logging_config=lc)\n",
    "\n",
    "import warnings\n",
    "warnings.filterwarnings(\"ignore\", category=DeprecationWarning)"
   ]
  },
  {
   "cell_type": "code",
   "execution_count": 158,
   "metadata": {},
   "outputs": [
    {
     "data": {
      "text/html": [
       "<style>.container { width:90% !important; }</style>"
      ],
      "text/plain": [
       "<IPython.core.display.HTML object>"
      ]
     },
     "metadata": {},
     "output_type": "display_data"
    }
   ],
   "source": [
    "\n",
    "from IPython.core.display import display, HTML\n",
    "from IPython.display import clear_output, display_html\n",
    "display(HTML(\"<style>.container { width:90% !important; }</style>\"))"
   ]
  },
  {
   "cell_type": "code",
   "execution_count": 159,
   "metadata": {},
   "outputs": [],
   "source": [
    "from collections import Counter"
   ]
  },
  {
   "cell_type": "code",
   "execution_count": 160,
   "metadata": {},
   "outputs": [],
   "source": [
    "def get_vw_text(text, text_id):\n",
    "    count = Counter(text.split(' '))\n",
    "    vw_text = f'doc_{text_id} |@text '\n",
    "    for key, value in count.items():\n",
    "        if len(key) != 0:\n",
    "            vw_text += f'{key}:{value} '\n",
    "    return vw_text[:-1]"
   ]
  },
  {
   "cell_type": "code",
   "execution_count": 161,
   "metadata": {},
   "outputs": [],
   "source": [
    "from nltk.corpus import stopwords"
   ]
  },
  {
   "cell_type": "code",
   "execution_count": 162,
   "metadata": {},
   "outputs": [],
   "source": [
    "def preprocess(text):\n",
    "    text = text.replace(':', '').lower().replace('.', '').replace(',', '')\n",
    "    return text"
   ]
  },
  {
   "cell_type": "code",
   "execution_count": 163,
   "metadata": {},
   "outputs": [],
   "source": [
    "train_texts_tn = []\n",
    "train_texts = [preprocess(text) for text in df_train.iloc[:,0]]\n",
    "for i, text in enumerate(train_texts):\n",
    "    vw_text = get_vw_text(text, i)\n",
    "    text_dict = {'id':f'doc_{i}', 'raw_text':text, 'vw_text':vw_text}\n",
    "    train_texts_tn.append(text_dict)\n",
    "    \n",
    "pd.DataFrame(train_texts_tn).to_csv('./train1.csv')\n",
    "dataset_train = Dataset('./train1.csv')"
   ]
  },
  {
   "cell_type": "code",
   "execution_count": 164,
   "metadata": {},
   "outputs": [],
   "source": [
    "test_texts_tn = []\n",
    "test_texts = [preprocess(text) for text in df_test.iloc[:,0]]\n",
    "for i, text in enumerate(test_texts):\n",
    "    vw_text = get_vw_text(text, i)\n",
    "    text_dict = {'id':f'doc_{i}', 'raw_text':text, 'vw_text':vw_text}\n",
    "    test_texts_tn.append(text_dict)\n",
    "    \n",
    "pd.DataFrame(test_texts_tn).to_csv('./test1.csv')\n",
    "dataset_test = Dataset('./test1.csv')"
   ]
  },
  {
   "cell_type": "code",
   "execution_count": 194,
   "metadata": {},
   "outputs": [],
   "source": [
    "def get_cube(tau1, tau2, name, bck=0, topics=20):\n",
    "    model_artm = init_simple_default_model(\n",
    "        dataset=dataset_train,\n",
    "        modalities_to_use={'@text'},\n",
    "        main_modality='@text',\n",
    "        specific_topics = topics,\n",
    "        background_topics=bck\n",
    "    )\n",
    "    tm = TopicModel(model_artm)\n",
    "    specific_topics = [t for t in tm.topic_names if \"background\" not in t]\n",
    "    experiment = Experiment(\n",
    "    experiment_id=name, save_path=\"experiments\", topic_model=tm\n",
    "    )\n",
    "    \n",
    "    my_first_cube = RegularizersModifierCube(separate_thread=False,\n",
    "        num_iter=20,\n",
    "        regularizer_parameters=[\n",
    "            {\n",
    "                'regularizer': artm.DecorrelatorPhiRegularizer(\n",
    "                    name='decorrelation_phi', \n",
    "                    class_ids=\"@text\", \n",
    "                    topic_names=specific_topics\n",
    "                ),\n",
    "                'tau_grid': tau1\n",
    "            },\n",
    "            {\n",
    "                'regularizer': artm.SmoothSparsePhiRegularizer(\n",
    "                    name=\"smsp_phi_specific\",\n",
    "                    class_ids=\"@text\", \n",
    "                    topic_names=specific_topics\n",
    "                ),\n",
    "                'tau_grid': tau2\n",
    "            },\n",
    "        ],\n",
    "        verbose=True\n",
    "    )\n",
    "\n",
    "    models = my_first_cube(tm, dataset_train)\n",
    "    return experiment, model_artm, my_first_cube, models"
   ]
  },
  {
   "cell_type": "code",
   "execution_count": 195,
   "metadata": {},
   "outputs": [],
   "source": [
    "y_train = np.asarray(df_train.iloc[:,1] == 'spam')\n",
    "y_test = np.asarray(df_test.iloc[:,1] == 'spam')"
   ]
  },
  {
   "cell_type": "code",
   "execution_count": 196,
   "metadata": {},
   "outputs": [],
   "source": [
    "def get_accuracy(dataset_train, y_train, dataset_test, y_test, model):\n",
    "    X_train = model.get_theta(dataset=dataset_train).values.T\n",
    "    X_test = model.get_theta(dataset=dataset_test).values.T\n",
    "    \n",
    "    clf = RandomForestClassifier()\n",
    "    clf.fit(X_train, y_train)\n",
    "    y_pred = clf.predict(X_test)\n",
    "    return accuracy_score(y_test, y_pred), f1_score(y_test, y_pred)"
   ]
  },
  {
   "cell_type": "code",
   "execution_count": 197,
   "metadata": {},
   "outputs": [],
   "source": [
    "decorr_tau = [0., 0.005, 0.01, 0.015, 0.02, 0.025]\n",
    "ss_tau = [-0.1, -0.05, 0., 0.05, 0.1]"
   ]
  },
  {
   "cell_type": "code",
   "execution_count": 198,
   "metadata": {},
   "outputs": [
    {
     "name": "stderr",
     "output_type": "stream",
     "text": [
      "100%|██████████| 1/1 [00:03<00:00,  3.80s/it]\n"
     ]
    },
    {
     "name": "stdout",
     "output_type": "stream",
     "text": [
      "0.9353535353535355 0.2873563218390805\n"
     ]
    },
    {
     "name": "stderr",
     "output_type": "stream",
     "text": [
      "100%|██████████| 1/1 [00:03<00:00,  3.71s/it]\n"
     ]
    },
    {
     "name": "stdout",
     "output_type": "stream",
     "text": [
      "0.9353535353535355 0.26744186046511625\n"
     ]
    },
    {
     "name": "stderr",
     "output_type": "stream",
     "text": [
      "100%|██████████| 1/1 [00:04<00:00,  4.16s/it]\n"
     ]
    },
    {
     "name": "stdout",
     "output_type": "stream",
     "text": [
      "0.9356136820925554 0.2352941176470588\n"
     ]
    },
    {
     "name": "stderr",
     "output_type": "stream",
     "text": [
      "100%|██████████| 1/1 [00:03<00:00,  3.99s/it]\n"
     ]
    },
    {
     "name": "stdout",
     "output_type": "stream",
     "text": [
      "0.9352226720647773 0.29545454545454547\n"
     ]
    },
    {
     "name": "stderr",
     "output_type": "stream",
     "text": [
      "100%|██████████| 1/1 [00:03<00:00,  3.79s/it]\n"
     ]
    },
    {
     "name": "stdout",
     "output_type": "stream",
     "text": [
      "0.9334677419354839 0.28571428571428575\n"
     ]
    },
    {
     "name": "stderr",
     "output_type": "stream",
     "text": [
      "100%|██████████| 1/1 [00:03<00:00,  3.88s/it]\n"
     ]
    },
    {
     "name": "stdout",
     "output_type": "stream",
     "text": [
      "0.9330628803245435 0.29545454545454547\n"
     ]
    },
    {
     "data": {
      "text/plain": [
       "Text(0, 0.5, 'F1-score')"
      ]
     },
     "execution_count": 198,
     "metadata": {},
     "output_type": "execute_result"
    },
    {
     "data": {
      "image/png": "[encoded data removed]",
      "text/plain": [
       "<Figure size 432x288 with 1 Axes>"
      ]
     },
     "metadata": {
      "needs_background": "light"
     },
     "output_type": "display_data"
    }
   ],
   "source": [
    "scores_train = []\n",
    "scores_test = []\n",
    "for i in decorr_tau:\n",
    "    experiment, model_artm, cube, models = get_cube([i], [ss_tau[1]], f'{str(datetime.datetime.now())}_{i}', bck=0)\n",
    "    model = list(experiment.models.values())[-1]\n",
    "    model = model.restore()\n",
    "    acc, f1_test = get_accuracy(dataset_train, y_train, dataset_test, y_test, model)\n",
    "    acc, f1_train = get_accuracy(dataset_train, y_train, dataset_train, y_train, model)\n",
    "    scores_train.append(f1_train)\n",
    "    scores_test.append(f1_test)\n",
    "    print(f1_train, f1_test)\n",
    "plt.plot(decorr_tau, scores_train, label='Train')\n",
    "plt.plot(decorr_tau, scores_test, label='Test')\n",
    "plt.xlabel('Decorrelation coefficient')\n",
    "plt.ylabel('F1-score')"
   ]
  },
  {
   "cell_type": "code",
   "execution_count": 279,
   "metadata": {},
   "outputs": [
    {
     "name": "stderr",
     "output_type": "stream",
     "text": [
      "100%|██████████| 1/1 [00:03<00:00,  3.73s/it]\n"
     ]
    },
    {
     "name": "stdout",
     "output_type": "stream",
     "text": [
      "0.9357429718875501 0.2774566473988439\n"
     ]
    },
    {
     "name": "stderr",
     "output_type": "stream",
     "text": [
      "100%|██████████| 1/1 [00:03<00:00,  3.93s/it]\n"
     ]
    },
    {
     "name": "stdout",
     "output_type": "stream",
     "text": [
      "0.9346733668341708 0.2774566473988439\n"
     ]
    },
    {
     "name": "stderr",
     "output_type": "stream",
     "text": [
      "100%|██████████| 1/1 [00:03<00:00,  3.94s/it]\n"
     ]
    },
    {
     "name": "stdout",
     "output_type": "stream",
     "text": [
      "0.9346733668341708 0.26744186046511625\n"
     ]
    },
    {
     "name": "stderr",
     "output_type": "stream",
     "text": [
      "100%|██████████| 1/1 [00:03<00:00,  3.56s/it]\n"
     ]
    },
    {
     "name": "stdout",
     "output_type": "stream",
     "text": [
      "0.9348044132397192 0.3163841807909605\n"
     ]
    },
    {
     "name": "stderr",
     "output_type": "stream",
     "text": [
      "100%|██████████| 1/1 [00:03<00:00,  3.64s/it]\n"
     ]
    },
    {
     "name": "stdout",
     "output_type": "stream",
     "text": [
      "0.9342629482071714 0.34444444444444444\n"
     ]
    },
    {
     "data": {
      "text/plain": [
       "Text(0, 0.5, 'F1-score')"
      ]
     },
     "execution_count": 279,
     "metadata": {},
     "output_type": "execute_result"
    },
    {
     "data": {
      "image/png": "[encoded data removed]",
      "text/plain": [
       "<Figure size 432x288 with 1 Axes>"
      ]
     },
     "metadata": {
      "needs_background": "light"
     },
     "output_type": "display_data"
    }
   ],
   "source": [
    "scores_train = []\n",
    "scores_test = []\n",
    "for i in ss_tau:\n",
    "    experiment, model_artm, cube, models = get_cube([1e-3], [i], f'{str(datetime.datetime.now())}_{i}', bck=0)\n",
    "    model = list(experiment.models.values())[-1]\n",
    "    model = model.restore()\n",
    "    acc, f1_test,_ = get_accuracy(dataset_train, y_train, dataset_test, y_test, model)\n",
    "    acc, f1_train,_ = get_accuracy(dataset_train, y_train, dataset_train, y_train, model)\n",
    "    scores_train.append(f1_train)\n",
    "    scores_test.append(f1_test)\n",
    "    print(f1_train, f1_test)\n",
    "plt.plot(ss_tau, scores_train, label='Train')\n",
    "plt.plot(ss_tau, scores_test)\n",
    "plt.xlabel('SmoothSparse coefficient')\n",
    "plt.ylabel('F1-score')"
   ]
  },
  {
   "cell_type": "code",
   "execution_count": 200,
   "metadata": {},
   "outputs": [
    {
     "name": "stderr",
     "output_type": "stream",
     "text": [
      "100%|██████████| 1/1 [00:03<00:00,  3.71s/it]\n"
     ]
    },
    {
     "name": "stdout",
     "output_type": "stream",
     "text": [
      "0.9342770475227502 0.3258426966292135\n"
     ]
    },
    {
     "name": "stderr",
     "output_type": "stream",
     "text": [
      "100%|██████████| 1/1 [00:03<00:00,  3.88s/it]\n"
     ]
    },
    {
     "name": "stdout",
     "output_type": "stream",
     "text": [
      "0.9346733668341708 0.34444444444444444\n"
     ]
    },
    {
     "name": "stderr",
     "output_type": "stream",
     "text": [
      "100%|██████████| 1/1 [00:04<00:00,  4.18s/it]\n"
     ]
    },
    {
     "name": "stdout",
     "output_type": "stream",
     "text": [
      "0.9327902240325866 0.2873563218390805\n"
     ]
    },
    {
     "name": "stderr",
     "output_type": "stream",
     "text": [
      "100%|██████████| 1/1 [00:03<00:00,  3.85s/it]\n"
     ]
    },
    {
     "name": "stdout",
     "output_type": "stream",
     "text": [
      "0.9366834170854271 0.2873563218390805\n"
     ]
    },
    {
     "name": "stderr",
     "output_type": "stream",
     "text": [
      "100%|██████████| 1/1 [00:04<00:00,  4.26s/it]\n"
     ]
    },
    {
     "name": "stdout",
     "output_type": "stream",
     "text": [
      "0.9364278506559032 0.3163841807909605\n"
     ]
    },
    {
     "name": "stderr",
     "output_type": "stream",
     "text": [
      "100%|██████████| 1/1 [00:04<00:00,  4.79s/it]\n"
     ]
    },
    {
     "name": "stdout",
     "output_type": "stream",
     "text": [
      "0.9361702127659575 0.29714285714285715\n"
     ]
    },
    {
     "name": "stderr",
     "output_type": "stream",
     "text": [
      "100%|██████████| 1/1 [00:04<00:00,  4.56s/it]\n"
     ]
    },
    {
     "name": "stdout",
     "output_type": "stream",
     "text": [
      "0.9341438703140832 0.2774566473988439\n"
     ]
    },
    {
     "data": {
      "text/plain": [
       "Text(0, 0.5, 'F1-score')"
      ]
     },
     "execution_count": 200,
     "metadata": {},
     "output_type": "execute_result"
    },
    {
     "data": {
      "image/png": "[encoded data removed]",
      "text/plain": [
       "<Figure size 432x288 with 1 Axes>"
      ]
     },
     "metadata": {
      "needs_background": "light"
     },
     "output_type": "display_data"
    }
   ],
   "source": [
    "scores_train = []\n",
    "scores_test = []\n",
    "bck = np.arange(7)\n",
    "for i in bck:\n",
    "    experiment, model_artm, cube, models = get_cube([0.015], [0.05], f'{str(datetime.datetime.now())}_{i}', bck=i)\n",
    "    model = list(experiment.models.values())[-1]\n",
    "    model = model.restore()\n",
    "    acc, f1_test = get_accuracy(dataset_train, y_train, dataset_test, y_test, model)\n",
    "    acc, f1_train = get_accuracy(dataset_train, y_train, dataset_train, y_train, model)\n",
    "    scores_train.append(f1_train)\n",
    "    scores_test.append(f1_test)\n",
    "    print(f1_train, f1_test)\n",
    "plt.plot(bck, scores_train, label='Train')\n",
    "plt.plot(bck, scores_test, label='Test')\n",
    "plt.xlabel('Background topics')\n",
    "plt.ylabel('F1-score')"
   ]
  },
  {
   "cell_type": "code",
   "execution_count": 229,
   "metadata": {},
   "outputs": [
    {
     "name": "stderr",
     "output_type": "stream",
     "text": [
      "100%|██████████| 2/2 [00:12<00:00,  6.04s/it]\n"
     ]
    }
   ],
   "source": [
    "experiment, model_artm, cube, models = get_cube([0.1, 0.015], [0.05], f'{str(datetime.datetime.now())}_{i}', bck=1, topics=20)"
   ]
  },
  {
   "cell_type": "code",
   "execution_count": 230,
   "metadata": {},
   "outputs": [],
   "source": [
    "# for model in models:\n",
    "#     model = model.restore()\n",
    "#     acc, f1_test = get_accuracy(dataset_train, y_train, dataset_test, y_test, model)\n",
    "#     acc, f1_train = get_accuracy(dataset_train, y_train, dataset_train, y_train, model)\n",
    "#     print(f1_test, f1_train)"
   ]
  },
  {
   "cell_type": "code",
   "execution_count": 233,
   "metadata": {},
   "outputs": [
    {
     "data": {
      "image/png": "[encoded data removed]",
      "text/plain": [
       "<Figure size 576x576 with 1 Axes>"
      ]
     },
     "metadata": {
      "needs_background": "light"
     },
     "output_type": "display_data"
    }
   ],
   "source": [
    "from matplotlib import cm\n",
    "tms = experiment.models\n",
    "colors = np.linspace(0, 0.65, len(tms))\n",
    "\n",
    "plt.figure(figsize=(8,8))\n",
    "\n",
    "for i, tm in enumerate(list(tms.values())[2:]):\n",
    "    tm = tm.restore()\n",
    "    score = tm.scores['PerplexityScore@all']\n",
    "    plt.plot(score[1:])\n",
    "plt.xlabel('Iteration')\n",
    "plt.ylabel('Perplexity')\n",
    "plt.show()"
   ]
  },
  {
   "cell_type": "code",
   "execution_count": 234,
   "metadata": {},
   "outputs": [],
   "source": [
    "thresh = 1e-5\n",
    "best_model = list(experiment.models.values())[0]\n",
    "first_model_top_tok = TopTokensViewer(best_model, num_top_tokens=10, method='phi')\n",
    "first_model_html =  first_model_top_tok.to_html(first_model_top_tok.view(),thresh=thresh)"
   ]
  },
  {
   "cell_type": "code",
   "execution_count": 240,
   "metadata": {},
   "outputs": [],
   "source": [
    "first_model_top_doc = TopDocumentsViewer(best_model, dataset=dataset_test).view()"
   ]
  },
  {
   "cell_type": "code",
   "execution_count": 263,
   "metadata": {},
   "outputs": [
    {
     "data": {
      "text/plain": [
       "['sugar',\n",
       " '5249',\n",
       " 'tmr?',\n",
       " 'jordan!txt',\n",
       " ';)',\n",
       " 'bambling',\n",
       " 'conducts',\n",
       " 'potter',\n",
       " \"ny's\",\n",
       " 'gua']"
      ]
     },
     "execution_count": 263,
     "metadata": {},
     "output_type": "execute_result"
    }
   ],
   "source": [
    "[i[1] for i in first_model_top_tok.to_df().iloc[30:40].index]"
   ]
  },
  {
   "cell_type": "code",
   "execution_count": 268,
   "metadata": {},
   "outputs": [],
   "source": [
    "def get_accuracy(dataset_train, y_train, dataset_test, y_test, model):\n",
    "    X_train = model.get_theta(dataset=dataset_train).values.T\n",
    "    X_test = model.get_theta(dataset=dataset_test).values.T\n",
    "    \n",
    "    clf = RandomForestClassifier()\n",
    "    clf.fit(X_train, y_train)\n",
    "    y_pred = clf.predict(X_test)\n",
    "    return accuracy_score(y_test, y_pred), f1_score(y_test, y_pred), clf"
   ]
  },
  {
   "cell_type": "code",
   "execution_count": 269,
   "metadata": {},
   "outputs": [
    {
     "name": "stdout",
     "output_type": "stream",
     "text": [
      "0.9340101522842639 0.34444444444444444\n"
     ]
    }
   ],
   "source": [
    "model = list(experiment.models.values())[-1]\n",
    "model = model.restore()\n",
    "acc, f1_test, clf = get_accuracy(dataset_train, y_train, dataset_test, y_test, model)\n",
    "acc, f1_train, clf = get_accuracy(dataset_train, y_train, dataset_train, y_train, model)\n",
    "scores_train.append(f1_train)\n",
    "scores_test.append(f1_test)\n",
    "print(f1_train, f1_test)"
   ]
  },
  {
   "cell_type": "code",
   "execution_count": 274,
   "metadata": {},
   "outputs": [
    {
     "data": {
      "text/plain": [
       "Text(0, 0.5, 'Topic importance')"
      ]
     },
     "execution_count": 274,
     "metadata": {},
     "output_type": "execute_result"
    },
    {
     "data": {
      "image/png": "[encoded data removed]",
      "text/plain": [
       "<Figure size 432x288 with 1 Axes>"
      ]
     },
     "metadata": {
      "needs_background": "light"
     },
     "output_type": "display_data"
    }
   ],
   "source": [
    "plt.plot(clf.feature_importances_)\n",
    "plt.xlabel('Topic number')\n",
    "plt.ylabel('Topic importance')"
   ]
  },
  {
   "cell_type": "code",
   "execution_count": null,
   "metadata": {},
   "outputs": [],
   "source": []
  }
 ],
 "metadata": {
  "kernelspec": {
   "display_name": "Python 3",
   "language": "python",
   "name": "python3"
  },
  "language_info": {
   "codemirror_mode": {
    "name": "ipython",
    "version": 3
   },
   "file_extension": ".py",
   "mimetype": "text/x-python",
   "name": "python",
   "nbconvert_exporter": "python",
   "pygments_lexer": "ipython3",
   "version": "3.8.3"
  }
 },
 "nbformat": 4,
 "nbformat_minor": 4
}
